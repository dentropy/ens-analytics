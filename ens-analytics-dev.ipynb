{
 "cells": [
  {
   "cell_type": "code",
   "execution_count": null,
   "id": "2b570a76-58fb-4941-bc23-11cc80a9f52e",
   "metadata": {},
   "outputs": [],
   "source": [
    " %load_ext sql"
   ]
  },
  {
   "cell_type": "code",
   "execution_count": null,
   "id": "9c2a515d-2e0f-4f2f-9f7d-ffbbe72210bd",
   "metadata": {},
   "outputs": [],
   "source": [
    "%sql sqlite:///ENS_RECORDS.db"
   ]
  },
  {
   "cell_type": "code",
   "execution_count": null,
   "id": "cdbfdd0b-c089-42c0-b5a0-b1c31a00844a",
   "metadata": {},
   "outputs": [],
   "source": [
    "%%sql\n",
    "/* Get the table names */\n",
    "select name\n",
    "from sqlite_master \n",
    "where type='table'\n",
    "\n",
    "union all \n",
    "\n",
    "select name \n",
    "from sqlite_temp_master \n",
    "where type='table'"
   ]
  },
  {
   "cell_type": "code",
   "execution_count": null,
   "id": "c74c11b1-fbad-471a-a17c-9a170193c356",
   "metadata": {},
   "outputs": [],
   "source": [
    "%%sql\n",
    "PRAGMA table_info(ens_names);"
   ]
  },
  {
   "cell_type": "code",
   "execution_count": null,
   "id": "b3fc1291-0afa-476c-90ae-a67372a68eed",
   "metadata": {},
   "outputs": [],
   "source": [
    "%%sql\n",
    "PRAGMA table_info(ens_records_resolved);"
   ]
  },
  {
   "cell_type": "code",
   "execution_count": null,
   "id": "6809dd5f-b279-4c14-a529-94b74f46585c",
   "metadata": {},
   "outputs": [],
   "source": [
    "%%sql\n",
    "PRAGMA table_info(ens_records_resolved_errors);"
   ]
  },
  {
   "cell_type": "code",
   "execution_count": null,
   "id": "7b746b6c-f8eb-4f1c-a33c-bc4038ef5641",
   "metadata": {},
   "outputs": [],
   "source": [
    "%%sql\n",
    "SELECT *\n",
    "from ens_names\n",
    "LIMIT 5;"
   ]
  },
  {
   "cell_type": "code",
   "execution_count": null,
   "id": "d52f8f6e-dd29-4fa6-b0c5-aec1905a51a1",
   "metadata": {},
   "outputs": [],
   "source": [
    "%%sql\n",
    "SELECT *\n",
    "from ens_records_resolved\n",
    "LIMIT 5;"
   ]
  },
  {
   "cell_type": "code",
   "execution_count": null,
   "id": "ea4f1eda-1bcb-41d9-8b92-07ce5b8ea43e",
   "metadata": {},
   "outputs": [],
   "source": [
    "%%sql\n",
    "SELECT *\n",
    "from ens_records_resolved_errors\n",
    "LIMIT 5;"
   ]
  },
  {
   "cell_type": "markdown",
   "id": "236d2ba2-7e6d-49c3-bae7-48728b3ef93b",
   "metadata": {},
   "source": [
    "## What key's are available for each ENS name"
   ]
  },
  {
   "cell_type": "code",
   "execution_count": null,
   "id": "9e998844-2310-4a0b-96a7-4bb407e9d642",
   "metadata": {},
   "outputs": [],
   "source": [
    "%%sql\n",
    "SELECT\n",
    "    DISTINCT(key_value_table.key) as json_keys,\n",
    "    COUNT(*) count_keys\n",
    "FROM (\n",
    "    SELECT j.*\n",
    "    FROM ens_names t, json_each(ENS_RECORD_JSON) j\n",
    ") as key_value_table\n",
    "GROUP BY json_keys;"
   ]
  },
  {
   "cell_type": "code",
   "execution_count": null,
   "id": "3dc00687-815d-4196-9ba1-22a4abf0e290",
   "metadata": {},
   "outputs": [],
   "source": [
    "%%sql\n",
    "SELECT DISTINCT((json_extract(ENS_RECORD_JSON,'$.resolver.texts')))\n",
    "FROM ens_names\n",
    "LIMIT 10"
   ]
  },
  {
   "cell_type": "code",
   "execution_count": null,
   "id": "563b588b-8534-4a94-b8d7-51ada0d0e39f",
   "metadata": {},
   "outputs": [],
   "source": [
    "%%sql\n",
    "SELECT COUNT(DISTINCT(sub_domain))\n",
    "FROM ens_records_resolved\n",
    "LIMIT 10"
   ]
  },
  {
   "cell_type": "code",
   "execution_count": null,
   "id": "c35c1958-a812-48b0-8c88-cabd9b001032",
   "metadata": {},
   "outputs": [],
   "source": [
    "%%sql\n",
    "SELECT DISTINCT(sub_domain)\n",
    "FROM ens_records_resolved\n",
    "LIMIT 10;"
   ]
  },
  {
   "cell_type": "code",
   "execution_count": null,
   "id": "1935ad7d-b86a-4588-a97f-289c3d63a94c",
   "metadata": {},
   "outputs": [],
   "source": [
    "import sqlite3\n",
    "import json\n",
    "import pandas as pd\n",
    "import pprint\n",
    "from sqlalchemy import create_engine\n",
    "import os "
   ]
  },
  {
   "cell_type": "code",
   "execution_count": null,
   "id": "a0c74245-f6d8-4ce1-8be6-df9abc2fe509",
   "metadata": {},
   "outputs": [],
   "source": [
    "sqlite_path = './ENS_RECORDS.db'"
   ]
  },
  {
   "cell_type": "code",
   "execution_count": null,
   "id": "bbd07850-84b1-4a84-9926-b0fd6f066c31",
   "metadata": {},
   "outputs": [],
   "source": [
    "# [Get dictionary result from sqlite src](https://stackoverflow.com/a/3300514)\n",
    "def dict_factory(cursor, row):\n",
    "    d = {}\n",
    "    for idx, col in enumerate(cursor.description):\n",
    "        d[col[0]] = row[idx]\n",
    "    return d\n",
    "con = sqlite3.connect(sqlite_path)\n",
    "con.row_factory = dict_factory\n",
    "cur = con.cursor()"
   ]
  },
  {
   "cell_type": "code",
   "execution_count": null,
   "id": "60fe66f4-04d9-4144-992d-e66f7759d23b",
   "metadata": {},
   "outputs": [],
   "source": [
    "current_path = os.getcwd()\n",
    "print(os.getcwd())"
   ]
  },
  {
   "cell_type": "code",
   "execution_count": null,
   "id": "ce252553-980d-4a92-aefa-4a8772012d5e",
   "metadata": {},
   "outputs": [],
   "source": [
    "cnx = create_engine(\"sqlite:///\" + os.getcwd() + sqlite_path[1:])"
   ]
  },
  {
   "cell_type": "code",
   "execution_count": null,
   "id": "3daa6946-b5a8-48c1-b9e8-f3ed8c65f138",
   "metadata": {},
   "outputs": [],
   "source": [
    "subdomain_list = list(cur.execute(\"\"\" \n",
    "SELECT DISTINCT(sub_domain)\n",
    "FROM ens_records_resolved\n",
    "\"\"\"))"
   ]
  },
  {
   "cell_type": "code",
   "execution_count": null,
   "id": "3632ce2d-7b85-4d0c-bffe-6ba10e4d513e",
   "metadata": {},
   "outputs": [],
   "source": [
    "# print(subdomain_list)\n",
    "actual_subdomain_list = []\n",
    "for item in subdomain_list:\n",
    "    actual_subdomain_list.append(item[\"sub_domain\"])\n",
    "pprint.pprint(actual_subdomain_list[:10])"
   ]
  },
  {
   "cell_type": "code",
   "execution_count": null,
   "id": "ca12f6ea-44b6-46c9-84e0-512872032e51",
   "metadata": {},
   "outputs": [],
   "source": [
    "com_twitter = list(cur.execute(\"\"\" \n",
    "SELECT ens_name, sub_domain, ens_record_data\n",
    "FROM ens_records_resolved\n",
    "\"\"\"))\n",
    "pprint.pprint(com_twitter[:10])"
   ]
  },
  {
   "cell_type": "code",
   "execution_count": null,
   "id": "a8609a38-e59b-445e-916c-bbabe4d98cf8",
   "metadata": {},
   "outputs": [],
   "source": [
    "pd.DataFrame(data=com_twitter)"
   ]
  },
  {
   "cell_type": "code",
   "execution_count": null,
   "id": "96383118-8e12-4da9-876a-aa6afc3d9fdd",
   "metadata": {},
   "outputs": [],
   "source": [
    "select_all_domains_and_records = pd.read_sql_query(\"\"\" \n",
    "SELECT ens_name, sub_domain, ens_record_data\n",
    "FROM ens_records_resolved\n",
    "\"\"\", con=cnx)"
   ]
  },
  {
   "cell_type": "code",
   "execution_count": null,
   "id": "3f560b61-71b7-433c-ae77-5ae8e1dd68ed",
   "metadata": {},
   "outputs": [],
   "source": [
    "display(select_all_domains_and_records)"
   ]
  },
  {
   "cell_type": "code",
   "execution_count": null,
   "id": "5648f0fc-b86f-4f17-b658-3fede700c240",
   "metadata": {},
   "outputs": [],
   "source": [
    "select_all_twitter_domains_and_records = pd.read_sql_query(\"\"\" \n",
    "SELECT ens_name, sub_domain, ens_record_data\n",
    "FROM ens_records_resolved\n",
    "WHERE sub_domain = \"com.twitter\"\n",
    "\"\"\", con=cnx)"
   ]
  },
  {
   "cell_type": "code",
   "execution_count": null,
   "id": "31b176b7-f634-4419-9f0b-9bb6f1756060",
   "metadata": {},
   "outputs": [],
   "source": [
    "display(select_all_twitter_domains_and_records)"
   ]
  },
  {
   "cell_type": "code",
   "execution_count": null,
   "id": "2077bd51-b8b0-4be5-9587-4bcf21170d63",
   "metadata": {},
   "outputs": [],
   "source": [
    "select_all_discord_domains_and_records = pd.read_sql_query(\"\"\" \n",
    "SELECT ens_name, sub_domain, ens_record_data\n",
    "FROM ens_records_resolved\n",
    "WHERE sub_domain = \"com.discord\"\n",
    "\"\"\", con=cnx)"
   ]
  },
  {
   "cell_type": "code",
   "execution_count": null,
   "id": "d1eb9e98-2239-4c52-b612-e0cf1a25056b",
   "metadata": {},
   "outputs": [],
   "source": [
    "select_all_discord_domains_and_records"
   ]
  },
  {
   "cell_type": "code",
   "execution_count": null,
   "id": "09114d30-007c-43bb-98c6-471a9de3e606",
   "metadata": {},
   "outputs": [],
   "source": [
    "select_all_url_domains_and_records = pd.read_sql_query(\"\"\" \n",
    "SELECT ens_name, sub_domain, ens_record_data\n",
    "FROM ens_records_resolved\n",
    "WHERE sub_domain = \"url\"\n",
    "\"\"\", con=cnx)"
   ]
  },
  {
   "cell_type": "code",
   "execution_count": null,
   "id": "38544161-c9db-4b0d-8ccf-720174a29aff",
   "metadata": {},
   "outputs": [],
   "source": [
    "display(select_all_url_domains_and_records)"
   ]
  },
  {
   "cell_type": "code",
   "execution_count": null,
   "id": "c9984f91-e95d-474f-b947-0008c5d955cb",
   "metadata": {},
   "outputs": [],
   "source": []
  }
 ],
 "metadata": {
  "kernelspec": {
   "display_name": "Python 3 (ipykernel)",
   "language": "python",
   "name": "python3"
  },
  "language_info": {
   "codemirror_mode": {
    "name": "ipython",
    "version": 3
   },
   "file_extension": ".py",
   "mimetype": "text/x-python",
   "name": "python",
   "nbconvert_exporter": "python",
   "pygments_lexer": "ipython3",
   "version": "3.10.6"
  }
 },
 "nbformat": 4,
 "nbformat_minor": 5
}
